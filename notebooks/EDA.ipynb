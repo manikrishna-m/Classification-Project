{
 "cells": [
  {
   "attachments": {},
   "cell_type": "markdown",
   "id": "5ac84510-bf44-4daf-b2d4-b0f3267b563f",
   "metadata": {},
   "source": [
    "# Data understanding"
   ]
  },
  {
   "cell_type": "code",
   "execution_count": 942,
   "id": "b5f6fd55-c4e4-4b14-a1d1-e5149e7b0c2e",
   "metadata": {},
   "outputs": [],
   "source": [
    "import pandas as pd\n",
    "import numpy as np\n",
    "import matplotlib.pyplot as plt\n",
    "import seaborn as sns\n",
    "\n",
    "from textblob import TextBlob\n",
    "from sklearn.feature_selection import SelectKBest\n",
    "from sklearn.feature_selection import f_classif\n",
    "from category_encoders import BinaryEncoder\n",
    "from sklearn.preprocessing import LabelEncoder\n",
    "from sklearn.model_selection import train_test_split\n",
    "\n",
    "import warnings"
   ]
  },
  {
   "cell_type": "code",
   "execution_count": 943,
   "id": "adf0fa51-adb6-4d0f-8056-e3759a4e2512",
   "metadata": {},
   "outputs": [],
   "source": [
    "df = pd.read_csv(\"LUBS5990M_courseworkData_202223.csv\")"
   ]
  },
  {
   "cell_type": "code",
   "execution_count": 944,
   "id": "bfc201f2-31dd-48da-be43-e7c109d8d1cb",
   "metadata": {},
   "outputs": [
    {
     "data": {
      "text/html": [
       "<div>\n",
       "<style scoped>\n",
       "    .dataframe tbody tr th:only-of-type {\n",
       "        vertical-align: middle;\n",
       "    }\n",
       "\n",
       "    .dataframe tbody tr th {\n",
       "        vertical-align: top;\n",
       "    }\n",
       "\n",
       "    .dataframe thead th {\n",
       "        text-align: right;\n",
       "    }\n",
       "</style>\n",
       "<table border=\"1\" class=\"dataframe\">\n",
       "  <thead>\n",
       "    <tr style=\"text-align: right;\">\n",
       "      <th></th>\n",
       "      <th>ID</th>\n",
       "      <th>success</th>\n",
       "      <th>brandSlogan</th>\n",
       "      <th>hasVideo</th>\n",
       "      <th>rating</th>\n",
       "      <th>priceUSD</th>\n",
       "      <th>countryRegion</th>\n",
       "      <th>startDate</th>\n",
       "      <th>endDate</th>\n",
       "      <th>teamSize</th>\n",
       "      <th>hasGithub</th>\n",
       "      <th>hasReddit</th>\n",
       "      <th>platform</th>\n",
       "      <th>coinNum</th>\n",
       "      <th>minInvestment</th>\n",
       "      <th>distributedPercentage</th>\n",
       "    </tr>\n",
       "  </thead>\n",
       "  <tbody>\n",
       "    <tr>\n",
       "      <th>0</th>\n",
       "      <td>1</td>\n",
       "      <td>N</td>\n",
       "      <td>Is One of Its Kind ERC-20 Decentralized Stable...</td>\n",
       "      <td>1</td>\n",
       "      <td>4.0</td>\n",
       "      <td>30.00</td>\n",
       "      <td>Singapore</td>\n",
       "      <td>01-10-2019</td>\n",
       "      <td>01-10-2019</td>\n",
       "      <td>31.0</td>\n",
       "      <td>1</td>\n",
       "      <td>1</td>\n",
       "      <td>Ethereum</td>\n",
       "      <td>5.099990e+05</td>\n",
       "      <td>0</td>\n",
       "      <td>0.49</td>\n",
       "    </tr>\n",
       "    <tr>\n",
       "      <th>1</th>\n",
       "      <td>2</td>\n",
       "      <td>N</td>\n",
       "      <td>The Ultimate Blockchain Gaming Platform</td>\n",
       "      <td>1</td>\n",
       "      <td>4.3</td>\n",
       "      <td>0.13</td>\n",
       "      <td>Malta</td>\n",
       "      <td>07-09-2018</td>\n",
       "      <td>12-10-2018</td>\n",
       "      <td>20.0</td>\n",
       "      <td>1</td>\n",
       "      <td>1</td>\n",
       "      <td>XAYA</td>\n",
       "      <td>2.250000e+08</td>\n",
       "      <td>1</td>\n",
       "      <td>0.41</td>\n",
       "    </tr>\n",
       "    <tr>\n",
       "      <th>2</th>\n",
       "      <td>3</td>\n",
       "      <td>N</td>\n",
       "      <td>Simple Automated Investment App Driven by AI &amp; ML</td>\n",
       "      <td>1</td>\n",
       "      <td>4.4</td>\n",
       "      <td>0.01</td>\n",
       "      <td>UK</td>\n",
       "      <td>01-07-2019</td>\n",
       "      <td>30-06-2020</td>\n",
       "      <td>10.0</td>\n",
       "      <td>1</td>\n",
       "      <td>1</td>\n",
       "      <td>Stellar</td>\n",
       "      <td>5.000000e+09</td>\n",
       "      <td>1</td>\n",
       "      <td>0.40</td>\n",
       "    </tr>\n",
       "    <tr>\n",
       "      <th>3</th>\n",
       "      <td>4</td>\n",
       "      <td>Y</td>\n",
       "      <td>International Real Estate Crowdfunding Platform</td>\n",
       "      <td>1</td>\n",
       "      <td>4.3</td>\n",
       "      <td>NaN</td>\n",
       "      <td>Netherlands</td>\n",
       "      <td>01-10-2019</td>\n",
       "      <td>15-12-2019</td>\n",
       "      <td>27.0</td>\n",
       "      <td>1</td>\n",
       "      <td>1</td>\n",
       "      <td>Separate blockchain</td>\n",
       "      <td>1.250000e+08</td>\n",
       "      <td>1</td>\n",
       "      <td>0.13</td>\n",
       "    </tr>\n",
       "    <tr>\n",
       "      <th>4</th>\n",
       "      <td>5</td>\n",
       "      <td>N</td>\n",
       "      <td>Secure, Interference-Free Communications System</td>\n",
       "      <td>1</td>\n",
       "      <td>4.3</td>\n",
       "      <td>0.03</td>\n",
       "      <td>Mauritius</td>\n",
       "      <td>28-07-2019</td>\n",
       "      <td>30-11-2019</td>\n",
       "      <td>14.0</td>\n",
       "      <td>1</td>\n",
       "      <td>1</td>\n",
       "      <td>Ethereum</td>\n",
       "      <td>5.000000e+09</td>\n",
       "      <td>1</td>\n",
       "      <td>0.50</td>\n",
       "    </tr>\n",
       "  </tbody>\n",
       "</table>\n",
       "</div>"
      ],
      "text/plain": [
       "   ID success                                        brandSlogan  hasVideo  \\\n",
       "0   1       N  Is One of Its Kind ERC-20 Decentralized Stable...         1   \n",
       "1   2       N            The Ultimate Blockchain Gaming Platform         1   \n",
       "2   3       N  Simple Automated Investment App Driven by AI & ML         1   \n",
       "3   4       Y    International Real Estate Crowdfunding Platform         1   \n",
       "4   5       N    Secure, Interference-Free Communications System         1   \n",
       "\n",
       "   rating  priceUSD countryRegion   startDate     endDate  teamSize  \\\n",
       "0     4.0     30.00     Singapore  01-10-2019  01-10-2019      31.0   \n",
       "1     4.3      0.13         Malta  07-09-2018  12-10-2018      20.0   \n",
       "2     4.4      0.01            UK  01-07-2019  30-06-2020      10.0   \n",
       "3     4.3       NaN   Netherlands  01-10-2019  15-12-2019      27.0   \n",
       "4     4.3      0.03     Mauritius  28-07-2019  30-11-2019      14.0   \n",
       "\n",
       "   hasGithub  hasReddit             platform       coinNum  minInvestment  \\\n",
       "0          1          1             Ethereum  5.099990e+05              0   \n",
       "1          1          1                 XAYA  2.250000e+08              1   \n",
       "2          1          1              Stellar  5.000000e+09              1   \n",
       "3          1          1  Separate blockchain  1.250000e+08              1   \n",
       "4          1          1             Ethereum  5.000000e+09              1   \n",
       "\n",
       "   distributedPercentage  \n",
       "0                   0.49  \n",
       "1                   0.41  \n",
       "2                   0.40  \n",
       "3                   0.13  \n",
       "4                   0.50  "
      ]
     },
     "execution_count": 944,
     "metadata": {},
     "output_type": "execute_result"
    }
   ],
   "source": [
    "df.head()"
   ]
  },
  {
   "attachments": {},
   "cell_type": "markdown",
   "id": "c34a4a4b-8e4d-4fff-832d-25c5cdfe3042",
   "metadata": {},
   "source": [
    "## Dataset Overview "
   ]
  },
  {
   "cell_type": "code",
   "execution_count": 945,
   "id": "c9613606-049f-47d4-a106-9c83b9172c66",
   "metadata": {},
   "outputs": [
    {
     "data": {
      "text/plain": [
       "(2767, 16)"
      ]
     },
     "execution_count": 945,
     "metadata": {},
     "output_type": "execute_result"
    }
   ],
   "source": [
    "df.shape"
   ]
  },
  {
   "cell_type": "code",
   "execution_count": 946,
   "id": "0f33f4c5-82fa-4b82-8ee2-3209188a29dd",
   "metadata": {},
   "outputs": [
    {
     "name": "stdout",
     "output_type": "stream",
     "text": [
      "Numerical Variables:  ['ID', 'hasVideo', 'rating', 'priceUSD', 'teamSize', 'hasGithub', 'hasReddit', 'coinNum', 'minInvestment', 'distributedPercentage']\n",
      "Categorical Variables:  ['success', 'brandSlogan', 'countryRegion', 'startDate', 'endDate', 'platform']\n"
     ]
    }
   ],
   "source": [
    "numerical_vars = df.select_dtypes(include=['float64', 'int64']).columns.tolist()\n",
    "print(\"Numerical Variables: \", numerical_vars)\n",
    "\n",
    "categorical_vars = df.select_dtypes(include=['object']).columns.tolist()\n",
    "print(\"Categorical Variables: \", categorical_vars)"
   ]
  },
  {
   "cell_type": "code",
   "execution_count": 947,
   "id": "e06d0d8f-7768-4adb-9378-c4024989b9fc",
   "metadata": {},
   "outputs": [
    {
     "name": "stdout",
     "output_type": "stream",
     "text": [
      "Unique value count for column 'ID': 2767\n",
      "Unique value count for column 'hasVideo': 2\n",
      "Unique value count for column 'rating': 39\n",
      "Unique value count for column 'priceUSD': 274\n",
      "Unique value count for column 'teamSize': 53\n",
      "Unique value count for column 'hasGithub': 2\n",
      "Unique value count for column 'hasReddit': 2\n",
      "Unique value count for column 'coinNum': 855\n",
      "Unique value count for column 'minInvestment': 2\n",
      "Unique value count for column 'distributedPercentage': 111\n"
     ]
    }
   ],
   "source": [
    "for col in numerical_vars:\n",
    "    unique_count = df[col].nunique()\n",
    "    print(f\"Unique value count for column '{col}': {unique_count}\")"
   ]
  },
  {
   "cell_type": "code",
   "execution_count": 948,
   "id": "03f3b1a3-86b2-4aea-af50-cb419ac562f3",
   "metadata": {},
   "outputs": [],
   "source": [
    "original_numerical_values = ['rating', 'priceUSD', 'teamSize', 'coinNum', 'distributedPercentage']"
   ]
  },
  {
   "cell_type": "code",
   "execution_count": 949,
   "id": "84ddeb10-86e3-4ce3-91e7-b114b648870e",
   "metadata": {},
   "outputs": [
    {
     "name": "stdout",
     "output_type": "stream",
     "text": [
      "Unique value count for column 'success': 2\n",
      "Unique value count for column 'brandSlogan': 2763\n",
      "Unique value count for column 'countryRegion': 120\n",
      "Unique value count for column 'startDate': 760\n",
      "Unique value count for column 'endDate': 776\n",
      "Unique value count for column 'platform': 130\n"
     ]
    }
   ],
   "source": [
    "for col in categorical_vars:\n",
    "    unique_count = df[col].nunique()\n",
    "    print(f\"Unique value count for column '{col}': {unique_count}\")"
   ]
  },
  {
   "attachments": {},
   "cell_type": "markdown",
   "id": "bcb50c87-8f07-49eb-bfe2-4d2210d06482",
   "metadata": {},
   "source": [
    "## Data Quality"
   ]
  },
  {
   "cell_type": "code",
   "execution_count": 950,
   "id": "71c11c42-f2ce-4f96-a66b-06b153c12552",
   "metadata": {},
   "outputs": [
    {
     "name": "stdout",
     "output_type": "stream",
     "text": [
      "     Column Name  Missing Percentage\n",
      "0       priceUSD                6.51\n",
      "1  countryRegion                2.57\n",
      "2       teamSize                5.57\n"
     ]
    }
   ],
   "source": [
    "missing_perc = df.isna().mean() * 100\n",
    "columns_with_missing = missing_perc[missing_perc > 0]\n",
    "table = pd.DataFrame(columns=[\"Column Name\", \"Missing Percentage\"])\n",
    "table[\"Column Name\"] = columns_with_missing.index\n",
    "table[\"Missing Percentage\"] = columns_with_missing.values.round(2)\n",
    "print(table)"
   ]
  },
  {
   "cell_type": "code",
   "execution_count": 951,
   "id": "e64204c3-71d4-49aa-a862-86066df5b6e8",
   "metadata": {},
   "outputs": [
    {
     "name": "stdout",
     "output_type": "stream",
     "text": [
      "Percentage of records with missing values: 13.55\n"
     ]
    }
   ],
   "source": [
    "num_missing = df.isnull().any(axis=1).sum()\n",
    "pct_missing = (num_missing / len(df)) * 100\n",
    "print(\"Percentage of records with missing values:\", pct_missing.round(2))"
   ]
  },
  {
   "cell_type": "code",
   "execution_count": 952,
   "id": "13e8859b-c223-47a3-ab44-6306dfa41a55",
   "metadata": {},
   "outputs": [
    {
     "name": "stdout",
     "output_type": "stream",
     "text": [
      "Percentage of priceUSD values that are 0 : 5.49%\n"
     ]
    }
   ],
   "source": [
    "percentage = (df[df['priceUSD'] == 0]['priceUSD'].count() / len(df)) * 100\n",
    "print(f\"Percentage of priceUSD values that are 0 : {percentage:.2f}%\")"
   ]
  },
  {
   "cell_type": "code",
   "execution_count": 953,
   "id": "7c2f580b-11b0-43e5-8db2-9854465a1874",
   "metadata": {},
   "outputs": [
    {
     "name": "stdout",
     "output_type": "stream",
     "text": [
      "Percentage of duplicates: 0.0%\n"
     ]
    }
   ],
   "source": [
    "duplicate_percentage = (len(df[df.duplicated()]) / len(df)) * 100\n",
    "print(f\"Percentage of duplicates: {duplicate_percentage}%\")"
   ]
  },
  {
   "cell_type": "code",
   "execution_count": 954,
   "id": "63249c29-98e1-47cd-9acf-d50a0899a410",
   "metadata": {},
   "outputs": [
    {
     "name": "stdout",
     "output_type": "stream",
     "text": [
      "Percentage of empty strings in column success: 0.0%\n",
      "Percentage of empty strings in column brandSlogan: 0.0%\n",
      "Percentage of empty strings in column countryRegion: 0.0%\n",
      "Percentage of empty strings in column startDate: 0.0%\n",
      "Percentage of empty strings in column endDate: 0.0%\n",
      "Percentage of empty strings in column platform: 0.22%\n"
     ]
    }
   ],
   "source": [
    "for col in categorical_vars:\n",
    "    empty_count = df[df[col] == ' '].shape[0]\n",
    "    total_count = df.shape[0]\n",
    "    percentage = np.round(np.divide(empty_count, total_count) * 100.0, 2)\n",
    "    print(f\"Percentage of empty strings in column {col}: {percentage}%\")"
   ]
  },
  {
   "cell_type": "code",
   "execution_count": 955,
   "id": "6ba1b5ee-0332-48d3-af48-4140c7daadb6",
   "metadata": {},
   "outputs": [
    {
     "name": "stdout",
     "output_type": "stream",
     "text": [
      "['Afghanistan', 'Andorra', 'Anguilla', 'Argentina', 'Armenia', 'Australia', 'Austria', 'Bahamas', 'Bangladesh', 'Barbados', 'Belarus', 'Belgium', 'Belize', 'Bermuda', 'Bosnia and Herzegovina', 'Brazil', 'British Virgin Islands', 'Bulgaria', 'Cambodia', 'Canada', 'Cayman Islands', 'Chile', 'China', 'Colombia', 'Congo', 'Costa Rica', 'Croatia', 'Curacao', 'Curaçao', 'Cyprus', 'Czech Republic', 'Denmark', 'Dominican Republic', 'Ecuador', 'Egypt', 'Estonia', 'Finland', 'France', 'French Polynesia', 'Georgia', 'Germany', 'Ghana', 'Gibraltar', 'Greece', 'Guinea-Bissau', 'Honduras', 'Hungary', 'Iceland', 'India', 'Indonesia', 'Ireland', 'Isle of Man', 'Israel', 'Italy', 'Japan', 'Kazakhstan', 'Kuwait', 'Kyrgyzstan', 'Latvia', 'Liechtenstein', 'Lithuania', 'Luxembourg', 'Macedonia', 'Malaysia', 'Malta', 'Marshall Islands', 'Mauritius', 'Mexico', 'Monaco', 'Mongolia', 'Montenegro', 'Morocco', 'México', 'Netherlands', 'New Caledonia', 'New Zealand', 'Nigeria', 'Northern Mariana Islands', 'Norway', 'Pakistan', 'Panama', 'Peru', 'Philippines', 'Poland', 'Portugal', 'Puerto Rico', 'Romania', 'Russia', 'SINGAPORE', 'Saint Kitts and Nevis', 'Saint Vincent and the Grenadines', 'Samoa', 'Saudi Arabia', 'Serbia', 'Seychelles', 'Sierra Leone', 'Singapore', 'Slovakia', 'Slovenia', 'South Africa', 'South Korea', 'Spain', 'Sweden', 'Switzerland', 'Syria', 'Tanzania', 'Thailand', 'Timor-Leste', 'Tunisia', 'Turkey', 'UK', 'USA', 'Ukraine', 'United Arab Emirates', 'Vanuatu', 'Venezuela', 'Vietnam', 'Zimbabwe', 'india', 'usa']\n"
     ]
    }
   ],
   "source": [
    "unique_chars = df['countryRegion'].unique()\n",
    "print((sorted([char for char in unique_chars if pd.notnull(char)])))"
   ]
  },
  {
   "cell_type": "code",
   "execution_count": 956,
   "id": "6d44604c-ac21-4ce8-9b5b-099d249e0a74",
   "metadata": {},
   "outputs": [
    {
     "name": "stdout",
     "output_type": "stream",
     "text": [
      "[' ', ' Ethereum', ' NEO', 'AION', 'Acclaim', 'Achain', 'Akroma', 'Apollo Blockchain', 'Ardor', 'BEP2', 'BTC', 'BitForex', 'BitShares', 'Bitcoin', 'Bitshares', 'Bitsmo', 'Blockchain', 'ChainRepublik Blockchain', 'Coffe', 'Coincart', 'Counterparty', 'CryptoKami', 'CryptoNight', 'CryptoNote-based Blockchain', 'DAG', 'DECOIN Blockchain', 'DPOS', 'DPoS', 'ENLTE PLATFORM', 'ENTRY', 'EOS', 'ERC20', 'ETH', 'Eos', 'Ethererum', 'Ethereum', 'Ethereum ', 'Ethereum  ', 'Ethereum   ', 'Ethereum    ', 'Ethereum     ', 'Ethereum, Waves', 'Etherum', 'Fiber', 'Filecoin network', 'GoChain', 'Graphene', 'Hard-Fork of Litecoin', 'Hybrid', 'Hyperledger', 'ICON', 'IOV Blockchain', 'ISL-Blockchain', 'Infinity Blockchain', 'IronGeekChain', 'JPMorganChase', 'Keccak', 'Komodo', 'Lisk', 'Litecoin', 'MAHRA platform ', 'Monero', 'MultiChain', 'Multichain', 'NEM', 'NEO', 'NXT', 'Native', 'Neblio ', 'Nem', 'Neo', 'Neurochain', 'New Blockchain', 'Newton', 'Nilechain', 'POS', 'POS + POW', 'POS,POW', 'PivX', 'Pivx', 'PoW', 'PoW/PoS', 'QRC', 'QTUM', 'RSK', 'Ripemd160', 'SHA256 Coin', 'ST20', 'STRATIS', 'Scrypt', 'Separate Blockchain', 'Separate Blockchain ', 'Separate Blockchain  ', 'Separate blockchain', 'Slatechain', 'SmartX', 'StartEngine', 'Steem', 'Stellar', 'Stellar Protocol', 'Stratis', 'TEZOS', 'TON', 'TRON', 'TTchain  ', 'Tomochain', 'Tron', 'Tron ', 'Tron    ', 'UNIVERSA', 'VASYA', 'VeChain', 'VeChainThor VIP180', 'Ventureon', 'WAVES', 'Wanchain', 'Waves', 'WizeBit', 'X11', 'X11 blockchain', 'X13', 'XAYA', 'YouToken', 'Zilliqa', 'Zuum', 'iOlite Blockchain', 'pow/pos', 'x13 ', 'xDAC', '\\u200bKomodo']\n"
     ]
    }
   ],
   "source": [
    "unique_chars = df['platform'].unique()\n",
    "print((sorted([char for char in unique_chars if pd.notnull(char)])))"
   ]
  },
  {
   "attachments": {},
   "cell_type": "markdown",
   "id": "ad1cad9b-ce12-4191-8b22-4bd858372f93",
   "metadata": {},
   "source": [
    "## Statistical Summaries "
   ]
  },
  {
   "cell_type": "code",
   "execution_count": 957,
   "id": "c124c8bc-78ec-4b8c-9738-900da13b4672",
   "metadata": {},
   "outputs": [
    {
     "data": {
      "text/html": [
       "<div>\n",
       "<style scoped>\n",
       "    .dataframe tbody tr th:only-of-type {\n",
       "        vertical-align: middle;\n",
       "    }\n",
       "\n",
       "    .dataframe tbody tr th {\n",
       "        vertical-align: top;\n",
       "    }\n",
       "\n",
       "    .dataframe thead th {\n",
       "        text-align: right;\n",
       "    }\n",
       "</style>\n",
       "<table border=\"1\" class=\"dataframe\">\n",
       "  <thead>\n",
       "    <tr style=\"text-align: right;\">\n",
       "      <th></th>\n",
       "      <th>rating</th>\n",
       "      <th>priceUSD</th>\n",
       "      <th>teamSize</th>\n",
       "      <th>coinNum</th>\n",
       "      <th>distributedPercentage</th>\n",
       "    </tr>\n",
       "  </thead>\n",
       "  <tbody>\n",
       "    <tr>\n",
       "      <th>count</th>\n",
       "      <td>2767.000000</td>\n",
       "      <td>2587.000000</td>\n",
       "      <td>2613.000000</td>\n",
       "      <td>2.767000e+03</td>\n",
       "      <td>2767.000000</td>\n",
       "    </tr>\n",
       "    <tr>\n",
       "      <th>mean</th>\n",
       "      <td>3.121323</td>\n",
       "      <td>19.014036</td>\n",
       "      <td>13.107539</td>\n",
       "      <td>8.177888e+12</td>\n",
       "      <td>1.061370</td>\n",
       "    </tr>\n",
       "    <tr>\n",
       "      <th>std</th>\n",
       "      <td>0.714452</td>\n",
       "      <td>775.287126</td>\n",
       "      <td>8.082433</td>\n",
       "      <td>4.300022e+14</td>\n",
       "      <td>17.485513</td>\n",
       "    </tr>\n",
       "    <tr>\n",
       "      <th>min</th>\n",
       "      <td>1.000000</td>\n",
       "      <td>0.000000</td>\n",
       "      <td>1.000000</td>\n",
       "      <td>1.200000e+01</td>\n",
       "      <td>0.000000</td>\n",
       "    </tr>\n",
       "    <tr>\n",
       "      <th>25%</th>\n",
       "      <td>2.600000</td>\n",
       "      <td>0.040000</td>\n",
       "      <td>7.000000</td>\n",
       "      <td>5.000000e+07</td>\n",
       "      <td>0.400000</td>\n",
       "    </tr>\n",
       "    <tr>\n",
       "      <th>50%</th>\n",
       "      <td>3.100000</td>\n",
       "      <td>0.120000</td>\n",
       "      <td>12.000000</td>\n",
       "      <td>1.800000e+08</td>\n",
       "      <td>0.550000</td>\n",
       "    </tr>\n",
       "    <tr>\n",
       "      <th>75%</th>\n",
       "      <td>3.700000</td>\n",
       "      <td>0.500000</td>\n",
       "      <td>17.000000</td>\n",
       "      <td>6.000000e+08</td>\n",
       "      <td>0.700000</td>\n",
       "    </tr>\n",
       "    <tr>\n",
       "      <th>max</th>\n",
       "      <td>4.800000</td>\n",
       "      <td>39384.000000</td>\n",
       "      <td>75.000000</td>\n",
       "      <td>2.261910e+16</td>\n",
       "      <td>869.750000</td>\n",
       "    </tr>\n",
       "  </tbody>\n",
       "</table>\n",
       "</div>"
      ],
      "text/plain": [
       "            rating      priceUSD     teamSize       coinNum  \\\n",
       "count  2767.000000   2587.000000  2613.000000  2.767000e+03   \n",
       "mean      3.121323     19.014036    13.107539  8.177888e+12   \n",
       "std       0.714452    775.287126     8.082433  4.300022e+14   \n",
       "min       1.000000      0.000000     1.000000  1.200000e+01   \n",
       "25%       2.600000      0.040000     7.000000  5.000000e+07   \n",
       "50%       3.100000      0.120000    12.000000  1.800000e+08   \n",
       "75%       3.700000      0.500000    17.000000  6.000000e+08   \n",
       "max       4.800000  39384.000000    75.000000  2.261910e+16   \n",
       "\n",
       "       distributedPercentage  \n",
       "count            2767.000000  \n",
       "mean                1.061370  \n",
       "std                17.485513  \n",
       "min                 0.000000  \n",
       "25%                 0.400000  \n",
       "50%                 0.550000  \n",
       "75%                 0.700000  \n",
       "max               869.750000  "
      ]
     },
     "execution_count": 957,
     "metadata": {},
     "output_type": "execute_result"
    }
   ],
   "source": [
    "summary = df[original_numerical_values].describe()\n",
    "summary"
   ]
  },
  {
   "attachments": {},
   "cell_type": "markdown",
   "id": "1ead650a-4e34-4f90-ab21-3a463999e924",
   "metadata": {},
   "source": [
    "## Data Visualisation "
   ]
  },
  {
   "cell_type": "code",
   "execution_count": 958,
   "id": "ed13b086-5abd-4b1d-bca4-171a186b8413",
   "metadata": {},
   "outputs": [],
   "source": [
    "def plot_histogram_boxplot(df, col):\n",
    "    fig, (ax1, ax2) = plt.subplots(ncols=2, figsize=(10, 5))\n",
    "\n",
    "    ax1.hist(df[col], bins=10, edgecolor='black', alpha=0.7)\n",
    "    ax1.set_xlabel(col)\n",
    "    ax1.set_ylabel('Frequency')\n",
    "    ax1.set_title('Histogram')\n",
    "\n",
    "    sns.boxplot(df[col])\n",
    "    ax2.set_title('Box plot')\n",
    "    ax2.set_xlabel(col)\n",
    "\n",
    "    # plt.suptitle('Box Plots and Histogram of '+ col +' variable', fontsize=14)\n",
    "    plt.tight_layout()\n",
    "\n",
    "    plt.savefig(col + '.png', format='png')\n",
    "    plt.show()"
   ]
  },
  {
   "cell_type": "code",
   "execution_count": 959,
   "id": "039d3507-8749-475d-80a8-d2f694a7fec4",
   "metadata": {},
   "outputs": [
    {
     "data": {
      "image/png": "[encoded data removed]",
      "text/plain": [
       "<Figure size 720x360 with 2 Axes>"
      ]
     },
     "metadata": {
      "needs_background": "light"
     },
     "output_type": "display_data"
    },
    {
     "data": {
      "image/png": "[encoded data removed]",
      "text/plain": [
       "<Figure size 720x360 with 2 Axes>"
      ]
     },
     "metadata": {
      "needs_background": "light"
     },
     "output_type": "display_data"
    },
    {
     "data": {
      "image/png": "[encoded data removed]",
      "text/plain": [
       "<Figure size 720x360 with 2 Axes>"
      ]
     },
     "metadata": {
      "needs_background": "light"
     },
     "output_type": "display_data"
    },
    {
     "data": {
      "image/png": "[encoded data removed]",
      "text/plain": [
       "<Figure size 720x360 with 2 Axes>"
      ]
     },
     "metadata": {
      "needs_background": "light"
     },
     "output_type": "display_data"
    },
    {
     "data": {
      "image/png": "[encoded data removed]",
      "text/plain": [
       "<Figure size 720x360 with 2 Axes>"
      ]
     },
     "metadata": {
      "needs_background": "light"
     },
     "output_type": "display_data"
    }
   ],
   "source": [
    "for i, col in enumerate(original_numerical_values):\n",
    "    plot_histogram_boxplot(df, col)"
   ]
  },
  {
   "cell_type": "code",
   "execution_count": 960,
   "id": "8cd40d5e-2c80-4c83-b449-c8df649f760f",
   "metadata": {},
   "outputs": [
    {
     "name": "stdout",
     "output_type": "stream",
     "text": [
      "\n",
      "Columns with Outliers:\n",
      "             Column Name  Outliers Percentage\n",
      "0                coinNum                14.28\n",
      "1  distributedPercentage                 0.36\n",
      "2               priceUSD                 8.67\n",
      "3               teamSize                 2.39\n"
     ]
    }
   ],
   "source": [
    "import warnings\n",
    "import pandas as pd\n",
    "\n",
    "warnings.filterwarnings('ignore')\n",
    "\n",
    "Q1 = df.quantile(0.25)\n",
    "Q3 = df.quantile(0.75)\n",
    "IQR = Q3 - Q1\n",
    "lower_bound = Q1 - 1.5 * IQR\n",
    "upper_bound = Q3 + 1.5 * IQR\n",
    "\n",
    "outliers = ((df < lower_bound) | (df > upper_bound))\n",
    "outliers_percentage = (outliers.sum() / len(df)) * 100\n",
    "columns_with_outliers = outliers_percentage[outliers_percentage > 0]\n",
    "\n",
    "print(\"\\nColumns with Outliers:\")\n",
    "table = pd.DataFrame(columns=[\"Column Name\", \"Outliers Percentage\"])\n",
    "table[\"Column Name\"] = columns_with_outliers.index\n",
    "table[\"Outliers Percentage\"] = columns_with_outliers.values.round(2)\n",
    "print(table)"
   ]
  },
  {
   "cell_type": "code",
   "execution_count": 961,
   "id": "a90db578-f260-44d5-934f-ebd925c6260b",
   "metadata": {},
   "outputs": [
    {
     "data": {
      "image/png": "[encoded data removed]",
      "text/plain": [
       "<Figure size 720x576 with 2 Axes>"
      ]
     },
     "metadata": {
      "needs_background": "light"
     },
     "output_type": "display_data"
    }
   ],
   "source": [
    "correlation_matrix = df.corr()\n",
    "fig, ax = plt.subplots(figsize=(10, 8))\n",
    "cmap = sns.diverging_palette(220, 10, as_cmap=True)\n",
    "sns.heatmap(correlation_matrix, annot=True, cmap=cmap, ax=ax)\n",
    "ax.set_title('Correlation Matrix')\n",
    "plt.savefig('correlation_matrix.png', format='png')\n",
    "plt.show()"
   ]
  },
  {
   "attachments": {},
   "cell_type": "markdown",
   "id": "452d5c82-9a9d-4081-813a-e17856b71bd4",
   "metadata": {},
   "source": [
    "# Data Preparation"
   ]
  },
  {
   "attachments": {},
   "cell_type": "markdown",
   "id": "1057ef3e-30ee-428c-98f3-7c5e3cdb0622",
   "metadata": {},
   "source": [
    "## Handling Missing Data"
   ]
  },
  {
   "cell_type": "code",
   "execution_count": 962,
   "id": "c7ed05cd-500c-425d-8020-a79695688c27",
   "metadata": {},
   "outputs": [],
   "source": [
    "df['priceUSD'].fillna(df['priceUSD'].median(), inplace=True)\n",
    "df['teamSize'].fillna(df['teamSize'].median(), inplace=True)\n",
    "df['countryRegion'].fillna(df['countryRegion'].mode()[0], inplace=True)"
   ]
  },
  {
   "cell_type": "code",
   "execution_count": 963,
   "id": "ea540e3b-5acb-4a4a-b842-597a3bf03143",
   "metadata": {},
   "outputs": [],
   "source": [
    "df['priceUSD'] = np.where(df['priceUSD'] == 0, df['priceUSD'].median(), df['priceUSD'])"
   ]
  },
  {
   "attachments": {},
   "cell_type": "markdown",
   "id": "30b76d3e-a4d2-4da0-b0f3-31de2daa89a2",
   "metadata": {},
   "source": [
    "## Handling Outliers "
   ]
  },
  {
   "cell_type": "code",
   "execution_count": 964,
   "id": "dbe38bab-332f-4535-8a94-844cd990d770",
   "metadata": {},
   "outputs": [],
   "source": [
    "outlier_columns = ['priceUSD', 'teamSize', 'distributedPercentage', 'coinNum']\n",
    "\n",
    "for column in outlier_columns:\n",
    "    q1 = df[column].quantile(0.05)\n",
    "    q3 = df[column].quantile(0.95)\n",
    "    iqr = q3 - q1\n",
    "    lower_bound = q1 - 1.5 * iqr\n",
    "    upper_bound = q3 + 1.5 * iqr\n",
    "\n",
    "    df = df[(df[column] >= lower_bound) & (df[column] <= upper_bound)]"
   ]
  },
  {
   "cell_type": "code",
   "execution_count": 965,
   "id": "af24fb69-9266-4497-8366-0b2127f81f87",
   "metadata": {},
   "outputs": [
    {
     "data": {
      "text/plain": [
       "(2614, 16)"
      ]
     },
     "execution_count": 965,
     "metadata": {},
     "output_type": "execute_result"
    }
   ],
   "source": [
    "df.shape"
   ]
  },
  {
   "attachments": {},
   "cell_type": "markdown",
   "id": "9892d285-fc9a-48ba-8476-acf956a61994",
   "metadata": {},
   "source": [
    "## Feature Engineering"
   ]
  },
  {
   "cell_type": "code",
   "execution_count": 966,
   "id": "251faca3-b7bf-4219-8168-110861c770e1",
   "metadata": {},
   "outputs": [],
   "source": [
    "label_encoder = LabelEncoder()\n",
    "df['success_encoded'] = label_encoder.fit_transform(df['success'])"
   ]
  },
  {
   "cell_type": "code",
   "execution_count": 967,
   "id": "3f1f57f1-e72b-45e2-b181-22dcf0be0561",
   "metadata": {},
   "outputs": [
    {
     "name": "stdout",
     "output_type": "stream",
     "text": [
      "Total percentage for top 10 unique values: 60.64%\n"
     ]
    }
   ],
   "source": [
    "value_counts = df['countryRegion'].str.lower().replace(['curacao', 'curaçao'], 'curacao').value_counts()\n",
    "percentage = value_counts / len(df) * 100\n",
    "total_percentage = percentage.head(10).sum()\n",
    "print(\"Total percentage for top 10 unique values: %.2f%%\" % total_percentage)"
   ]
  },
  {
   "cell_type": "code",
   "execution_count": 968,
   "id": "ec2277ea-0242-4610-b1a4-b726280d2e40",
   "metadata": {},
   "outputs": [],
   "source": [
    "df['countryRegion'] = df['countryRegion'].str.lower().replace(['curacao', 'curaçao'], 'curacao')\n",
    "top_10_countries = df['countryRegion'].value_counts().head(10).index.tolist()\n",
    "\n",
    "filtered_df = df[df['countryRegion'].isin(top_10_countries)]\n",
    "df = pd.concat([df, pd.get_dummies(filtered_df['countryRegion'])], axis=1)\n",
    "\n",
    "countries_to_fill = ['cayman islands', 'estonia','germany', 'malta', 'netherlands', 'russia', 'singapore', 'switzerland','uk', 'usa',]\n",
    "df[countries_to_fill] = df[countries_to_fill].fillna(0)"
   ]
  },
  {
   "cell_type": "code",
   "execution_count": 969,
   "id": "72ab7ea6-d8f2-470e-94d1-bef4f0dfff1a",
   "metadata": {},
   "outputs": [],
   "source": [
    "df['duration'] = np.abs((pd.to_datetime(df['endDate']) - pd.to_datetime(df['startDate'])).dt.days)"
   ]
  },
  {
   "cell_type": "code",
   "execution_count": 970,
   "id": "02dad3b0-2f15-42d7-8284-7b86ca8bc7c4",
   "metadata": {},
   "outputs": [
    {
     "name": "stdout",
     "output_type": "stream",
     "text": [
      "Total percentage for Ethererum platform : 87.34%\n"
     ]
    }
   ],
   "source": [
    "values_to_check = ['ETH', 'Ethererum', 'Ethereum', 'Ethereum, Waves', 'Etherum']\n",
    "value_counts = df['platform'].str.strip().value_counts()\n",
    "filtered_counts = value_counts[value_counts.index.isin(values_to_check)]\n",
    "percentages = (filtered_counts / value_counts.sum()) * 100\n",
    "print(\"Total percentage for Ethererum platform : %.2f%%\" % percentages.sum())"
   ]
  },
  {
   "cell_type": "code",
   "execution_count": 971,
   "id": "85529a23-4352-4af6-8c00-c95e2d83ca23",
   "metadata": {},
   "outputs": [],
   "source": [
    "values_to_check = ['ETH', 'Ethererum', 'Ethereum', 'Ethereum, Waves', 'Etherum']\n",
    "df['platform_Ethereum'] = np.where(df['platform'].isin(values_to_check), 1, 0)"
   ]
  },
  {
   "cell_type": "code",
   "execution_count": 972,
   "id": "f3342f7a-31c7-41a9-9cc8-bb0982c4a6bd",
   "metadata": {},
   "outputs": [],
   "source": [
    "df['brandSlogan_score'] = df['brandSlogan'].apply(lambda x: TextBlob(str(x)).sentiment.polarity)"
   ]
  },
  {
   "attachments": {},
   "cell_type": "markdown",
   "id": "e0bd0606-4d24-45ec-8940-7468e5b064bb",
   "metadata": {},
   "source": [
    "## Feature Selection "
   ]
  },
  {
   "cell_type": "code",
   "execution_count": 973,
   "id": "2e5416a8-ef26-44ec-af89-b9ed2a9d7c15",
   "metadata": {},
   "outputs": [],
   "source": [
    "X = df.drop(['success','success_encoded','brandSlogan','platform','startDate','endDate','ID','countryRegion'], axis=1)\n",
    "y = df['success_encoded']"
   ]
  },
  {
   "cell_type": "code",
   "execution_count": 974,
   "id": "a0059e60-0b4b-49c8-bd19-322ca93c7010",
   "metadata": {},
   "outputs": [
    {
     "data": {
      "text/plain": [
       "(2614, 22)"
      ]
     },
     "execution_count": 974,
     "metadata": {},
     "output_type": "execute_result"
    }
   ],
   "source": [
    "X.shape"
   ]
  },
  {
   "cell_type": "code",
   "execution_count": 975,
   "id": "ef7cb0ff-a8e0-43a2-8f6d-564a7f7b1e44",
   "metadata": {},
   "outputs": [
    {
     "name": "stdout",
     "output_type": "stream",
     "text": [
      "['hasVideo' 'rating' 'teamSize' 'hasGithub' 'hasReddit']\n"
     ]
    }
   ],
   "source": [
    "from sklearn.feature_selection import SelectKBest, f_classif\n",
    "\n",
    "selector = SelectKBest(score_func=f_classif, k=5)\n",
    "X_selected = selector.fit_transform(X, y)\n",
    "feature_indices = selector.get_support(indices=True)\n",
    "selected_feature_names = X.columns[feature_indices] if isinstance(X, pd.DataFrame) else None\n",
    "\n",
    "print(selected_feature_names.values)"
   ]
  },
  {
   "attachments": {},
   "cell_type": "markdown",
   "id": "c65e1bf8-1dff-40cb-adaa-6edd58a7e3ca",
   "metadata": {},
   "source": [
    "##  Test Train Split"
   ]
  },
  {
   "cell_type": "code",
   "execution_count": 976,
   "id": "f24f3185-d7b4-4a3e-b760-d92aad753a19",
   "metadata": {},
   "outputs": [
    {
     "name": "stdout",
     "output_type": "stream",
     "text": [
      "Frequency of success:\n",
      "N    1631\n",
      "Y     983\n",
      "Name: success, dtype: int64\n"
     ]
    }
   ],
   "source": [
    "platform_counts = df['success'].value_counts()\n",
    "print(\"Frequency of success:\")\n",
    "print(platform_counts)"
   ]
  },
  {
   "cell_type": "code",
   "execution_count": 977,
   "id": "91ee262d-8a06-44e9-bfcd-6cddc892e143",
   "metadata": {},
   "outputs": [],
   "source": [
    "X_train, X_test, y_train, y_test = train_test_split(X_selected, y, test_size=0.2, stratify=y, random_state=42)"
   ]
  },
  {
   "cell_type": "code",
   "execution_count": 978,
   "id": "dda5e95e-6b47-4aae-ad09-f69ce29ac38d",
   "metadata": {},
   "outputs": [
    {
     "data": {
      "text/plain": [
       "2091"
      ]
     },
     "execution_count": 978,
     "metadata": {},
     "output_type": "execute_result"
    }
   ],
   "source": [
    "len(y_train)"
   ]
  },
  {
   "attachments": {},
   "cell_type": "markdown",
   "id": "e7cc2782-6712-4251-8a71-a2a2046419b5",
   "metadata": {},
   "source": [
    "## Scaling"
   ]
  },
  {
   "cell_type": "code",
   "execution_count": 979,
   "id": "1590b7c5-fedb-4f10-a564-abb2ffee40f7",
   "metadata": {},
   "outputs": [],
   "source": [
    "from sklearn.preprocessing import StandardScaler\n",
    "\n",
    "scaler = StandardScaler()\n",
    "X_train = scaler.fit_transform(X_train)\n",
    "X_test = scaler.transform(X_test)"
   ]
  },
  {
   "cell_type": "code",
   "execution_count": 980,
   "id": "d0085e69-f36d-4207-b8c9-394377b40989",
   "metadata": {},
   "outputs": [
    {
     "data": {
      "text/plain": [
       "2091"
      ]
     },
     "execution_count": 980,
     "metadata": {},
     "output_type": "execute_result"
    }
   ],
   "source": [
    "len(X_train)"
   ]
  },
  {
   "attachments": {},
   "cell_type": "markdown",
   "id": "e22b0a63-24e8-4f02-988b-6e35f5bb5818",
   "metadata": {},
   "source": [
    "# Modelling"
   ]
  },
  {
   "cell_type": "code",
   "execution_count": 981,
   "id": "0bdbb0b6-961e-4a74-9b24-ad8093843f9a",
   "metadata": {},
   "outputs": [],
   "source": [
    "from sklearn.neighbors import KNeighborsClassifier\n",
    "from sklearn.metrics import accuracy_score, classification_report, precision_score, recall_score, f1_score, roc_curve, auc\n",
    "\n",
    "knn = KNeighborsClassifier(n_neighbors=47)\n",
    "knn.fit(X_train, y_train)\n",
    "y_pred = knn.predict(X_test)\n",
    "\n",
    "# Calculate the evaluation metrics\n",
    "accuracy = accuracy_score(y_test, y_pred)\n",
    "precision = precision_score(y_test, y_pred)\n",
    "recall = recall_score(y_test, y_pred)\n",
    "f1 = f1_score(y_test, y_pred)\n",
    "\n",
    "\n",
    "probas0 = knn.predict_proba(X_test)\n",
    "fpr, tpr, thresholds = roc_curve(y_test, probas0[:, 1])\n",
    "roc_auc = auc(fpr, tpr)\n",
    "\n",
    "\n",
    "metrics_df = pd.DataFrame({\n",
    "    'Model': ['K-Nearest Neighbors'],\n",
    "    'Accuracy': [accuracy],\n",
    "    'Precision': [precision],\n",
    "    'Recall': [recall],\n",
    "    'F1-score': [f1],\n",
    "    'AUC' : [roc_auc],\n",
    "})\n"
   ]
  },
  {
   "cell_type": "code",
   "execution_count": 982,
   "id": "4548e87b-8f94-497b-8e23-9db381dec643",
   "metadata": {},
   "outputs": [],
   "source": [
    "from sklearn.naive_bayes import GaussianNB\n",
    "\n",
    "naive_bayes = GaussianNB()\n",
    "naive_bayes.fit(X_train, y_train)\n",
    "y_pred = naive_bayes.predict(X_test)\n",
    "\n",
    "\n",
    "probas1 = naive_bayes.predict_proba(X_test)\n",
    "fpr, tpr, thresholds = roc_curve(y_test, probas1[:, 1])\n",
    "\n",
    "metrics_df.loc[1, 'Model'] = 'Naive Bayes'\n",
    "metrics_df.loc[1, 'Accuracy'] = accuracy_score(y_test, y_pred)\n",
    "metrics_df.loc[1, 'Precision'] = precision_score(y_test, y_pred)\n",
    "metrics_df.loc[1, 'Recall'] = recall_score(y_test, y_pred)\n",
    "metrics_df.loc[1, 'F1-score'] = f1_score(y_test, y_pred)\n",
    "metrics_df.loc[1, 'AUC'] = auc(fpr, tpr)"
   ]
  },
  {
   "cell_type": "code",
   "execution_count": 983,
   "id": "367f413e-b2ff-45df-b9db-065fab9a52d5",
   "metadata": {},
   "outputs": [],
   "source": [
    "from sklearn.svm import SVC\n",
    "\n",
    "svm = SVC(kernel='linear', probability=True)\n",
    "svm.fit(X_train, y_train)\n",
    "y_pred = svm.predict(X_test)\n",
    "\n",
    "probas2 = svm.predict_proba(X_test)\n",
    "fpr, tpr, thresholds = roc_curve(y_test, probas2[:, 1])\n",
    "\n",
    "metrics_df.loc[2, 'Model'] = 'SVM'\n",
    "metrics_df.loc[2, 'Accuracy'] = accuracy_score(y_test, y_pred)\n",
    "metrics_df.loc[2, 'Precision'] = precision_score(y_test, y_pred)\n",
    "metrics_df.loc[2, 'Recall'] = recall_score(y_test, y_pred)\n",
    "metrics_df.loc[2, 'F1-score'] = f1_score(y_test, y_pred)\n",
    "metrics_df.loc[2, 'AUC'] = auc(fpr, tpr)"
   ]
  },
  {
   "cell_type": "code",
   "execution_count": 984,
   "id": "fc7682b5-dc93-4dd3-a2a6-1e2217ddeada",
   "metadata": {},
   "outputs": [],
   "source": [
    "from sklearn.ensemble import RandomForestClassifier\n",
    "\n",
    "\n",
    "random_forest = RandomForestClassifier()\n",
    "random_forest.fit(X_train, y_train)\n",
    "y_pred = random_forest.predict(X_test)\n",
    "\n",
    "probas3 = random_forest.predict_proba(X_test)\n",
    "fpr, tpr, thresholds = roc_curve(y_test, probas3[:, 1])\n",
    "\n",
    "metrics_df.loc[3, 'Model'] = 'RandomForest'\n",
    "metrics_df.loc[3, 'Accuracy'] = accuracy_score(y_test, y_pred)\n",
    "metrics_df.loc[3, 'Precision'] = precision_score(y_test, y_pred)\n",
    "metrics_df.loc[3, 'Recall'] = recall_score(y_test, y_pred)\n",
    "metrics_df.loc[3, 'F1-score'] = f1_score(y_test, y_pred)\n",
    "metrics_df.loc[3, 'AUC'] = auc(fpr, tpr)\n"
   ]
  },
  {
   "cell_type": "code",
   "execution_count": 985,
   "id": "a7815433-15bb-48a4-81df-e3370339d0e3",
   "metadata": {},
   "outputs": [],
   "source": [
    "from sklearn.tree import DecisionTreeClassifier\n",
    "\n",
    "clf = DecisionTreeClassifier()\n",
    "clf.fit(X_train, y_train)\n",
    "y_pred = clf.predict(X_test)\n",
    "\n",
    "probas4 = svm.predict_proba(X_test)\n",
    "fpr, tpr, thresholds = roc_curve(y_test, probas4[:, 1])\n",
    "\n",
    "metrics_df.loc[4, 'Model'] = 'DecisionTree'\n",
    "metrics_df.loc[4, 'Accuracy'] = accuracy_score(y_test, y_pred)\n",
    "metrics_df.loc[4, 'Precision'] = precision_score(y_test, y_pred)\n",
    "metrics_df.loc[4, 'Recall'] = recall_score(y_test, y_pred)\n",
    "metrics_df.loc[4, 'F1-score'] = f1_score(y_test, y_pred)\n",
    "metrics_df.loc[4, 'AUC'] = auc(fpr, tpr)\n"
   ]
  },
  {
   "cell_type": "code",
   "execution_count": 986,
   "id": "3f06f0fc-0ebd-489e-b8be-c172536b7227",
   "metadata": {},
   "outputs": [],
   "source": [
    "import xgboost as xgb\n",
    "\n",
    "xgb_model = xgb.XGBClassifier()\n",
    "xgb_model.fit(X_train, y_train)\n",
    "y_pred = xgb_model.predict(X_test)\n",
    "\n",
    "probas5 = xgb_model.predict_proba(X_test)\n",
    "fpr, tpr, thresholds = roc_curve(y_test, probas5[:, 1])\n",
    "\n",
    "metrics_df.loc[5, 'Model'] = 'XGB'\n",
    "metrics_df.loc[5, 'Accuracy'] = accuracy_score(y_test, y_pred)\n",
    "metrics_df.loc[5, 'Precision'] = precision_score(y_test, y_pred)\n",
    "metrics_df.loc[5, 'Recall'] = recall_score(y_test, y_pred)\n",
    "metrics_df.loc[5, 'F1-score'] = f1_score(y_test, y_pred)\n",
    "metrics_df.loc[5, 'AUC'] = auc(fpr, tpr)"
   ]
  },
  {
   "cell_type": "code",
   "execution_count": 987,
   "id": "39f54025-22b3-4cbd-961b-7f18ec1c70ab",
   "metadata": {},
   "outputs": [],
   "source": [
    "from sklearn.ensemble import AdaBoostClassifier\n",
    "\n",
    "ada_model = AdaBoostClassifier()\n",
    "ada_model.fit(X_train, y_train)\n",
    "y_pred = ada_model.predict(X_test)\n",
    "\n",
    "probas6 = ada_model.predict_proba(X_test)\n",
    "fpr, tpr, thresholds = roc_curve(y_test, probas6[:, 1])\n",
    "\n",
    "metrics_df.loc[6, 'Model'] = 'AdaBoost'\n",
    "metrics_df.loc[6, 'Accuracy'] = accuracy_score(y_test, y_pred)\n",
    "metrics_df.loc[6, 'Precision'] = precision_score(y_test, y_pred)\n",
    "metrics_df.loc[6, 'Recall'] = recall_score(y_test, y_pred)\n",
    "metrics_df.loc[6, 'F1-score'] = f1_score(y_test, y_pred)\n",
    "metrics_df.loc[6, 'AUC'] = auc(fpr, tpr)"
   ]
  },
  {
   "attachments": {},
   "cell_type": "markdown",
   "id": "609c37c8-833e-4cf5-a42d-b2d2360ecb87",
   "metadata": {},
   "source": [
    "# Evaluation"
   ]
  },
  {
   "cell_type": "code",
   "execution_count": 988,
   "id": "ef082d2f-2aec-4d65-a2ff-ea4cb947653f",
   "metadata": {},
   "outputs": [
    {
     "name": "stdout",
     "output_type": "stream",
     "text": [
      "                 Model  Accuracy  Precision    Recall  F1-score       AUC\n",
      "0  K-Nearest Neighbors  0.652008   0.568807  0.314721  0.405229  0.653203\n",
      "1          Naive Bayes  0.632887   0.512315  0.527919  0.520000  0.682476\n",
      "2                  SVM  0.669216   0.666667  0.243655  0.356877  0.669685\n",
      "3         RandomForest  0.638623   0.526316  0.406091  0.458453  0.608927\n",
      "4         DecisionTree  0.613767   0.483444  0.370558  0.419540  0.669685\n",
      "5                  XGB  0.623327   0.500000  0.375635  0.428986  0.617810\n",
      "6             AdaBoost  0.686424   0.629921  0.406091  0.493827  0.679977\n"
     ]
    }
   ],
   "source": [
    "print(metrics_df)"
   ]
  },
  {
   "cell_type": "code",
   "execution_count": 989,
   "id": "9c9f17c1-d2e7-4ee2-b3a6-7b7f505cdb3f",
   "metadata": {},
   "outputs": [
    {
     "data": {
      "image/png": "[encoded data removed]",
      "text/plain": [
       "<Figure size 576x432 with 1 Axes>"
      ]
     },
     "metadata": {
      "needs_background": "light"
     },
     "output_type": "display_data"
    }
   ],
   "source": [
    "from sklearn.metrics import roc_curve, auc\n",
    "import matplotlib.pyplot as plt\n",
    "\n",
    "models = ['KNN', 'Naive Bayes', 'SVM', 'Random Forest', 'Decision Tree', 'XGB', 'AdaBoost']\n",
    "probas = [probas0, probas1, probas2, probas3, probas4, probas5, probas6]\n",
    "\n",
    "plt.figure(figsize=(8, 6))\n",
    "\n",
    "for i in range(len(models)):\n",
    "    fpr, tpr, thresholds = roc_curve(y_test, probas[i][:, 1])\n",
    "    roc_auc = auc(fpr, tpr)\n",
    "    plt.plot(fpr, tpr, label=models[i])\n",
    "\n",
    "\n",
    "plt.plot([0, 1], [0, 1], 'k--', label='Random Guessing')\n",
    "\n",
    "plt.xlabel('False Positive Rate')\n",
    "plt.ylabel('True Positive Rate')\n",
    "plt.title('Receiver Operating Characteristic (ROC) Curve')\n",
    "\n",
    "plt.legend(loc='center right')\n",
    "plt.savefig('ROC.png', format='png')\n",
    "\n",
    "plt.show()"
   ]
  },
  {
   "cell_type": "code",
   "execution_count": null,
   "id": "df27e4ad-d8bb-405c-90cc-fadc19c85f34",
   "metadata": {},
   "outputs": [],
   "source": []
  }
 ],
 "metadata": {
  "kernelspec": {
   "display_name": "Python 3 (ipykernel)",
   "language": "python",
   "name": "python3"
  },
  "language_info": {
   "codemirror_mode": {
    "name": "ipython",
    "version": 3
   },
   "file_extension": ".py",
   "mimetype": "text/x-python",
   "name": "python",
   "nbconvert_exporter": "python",
   "pygments_lexer": "ipython3",
   "version": "3.9.12"
  }
 },
 "nbformat": 4,
 "nbformat_minor": 5
}
